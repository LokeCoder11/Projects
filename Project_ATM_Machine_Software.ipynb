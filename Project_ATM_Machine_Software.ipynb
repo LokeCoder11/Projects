{
  "nbformat": 4,
  "nbformat_minor": 0,
  "metadata": {
    "colab": {
      "provenance": [],
      "authorship_tag": "ABX9TyNJEGu8aRRTdx1a4Zradb1w",
      "include_colab_link": true
    },
    "kernelspec": {
      "name": "python3",
      "display_name": "Python 3"
    },
    "language_info": {
      "name": "python"
    }
  },
  "cells": [
    {
      "cell_type": "markdown",
      "metadata": {
        "id": "view-in-github",
        "colab_type": "text"
      },
      "source": [
        "<a href=\"https://colab.research.google.com/github/LokeCoder11/Projects/blob/main/Project_ATM_Machine_Software.ipynb\" target=\"_parent\"><img src=\"https://colab.research.google.com/assets/colab-badge.svg\" alt=\"Open In Colab\"/></a>"
      ]
    },
    {
      "cell_type": "code",
      "source": [
        "# ATM Transaction\n",
        "# Designing an ATM program.\n",
        "# Write a program that simulates ATM transactions for withdrawing cash, checking balance, and depositing money.\n",
        "\n",
        "# 1st Defined variables\n",
        "balance = 1000\n",
        "correct_pin = 1234\n",
        "\n",
        "# 2nd Request specific input with Closed ended question\n",
        "print('''Choose an option:)\n",
        "1. Withdraw\n",
        "2. Check Balance\n",
        "3. Deposit\n",
        "''')\n",
        "\n",
        "# 3rd Input Received\n",
        "option = int(input(\"Enter your choice (1,2 or 3): \"))\n",
        "pin = int(input('Enter the pin:'))\n",
        "\n",
        "# 4th Verify and Check Input Received : to decide Action Flow to take with Nested Conditional Statement\n",
        "if pin == correct_pin:\n",
        "  if option == 1 : # Write your code\n",
        "      amount = float(input(\"Enter the amount to withdraw: \"))\n",
        "      if amount > balance:\n",
        "          print(\"Insufficient funds.\")\n",
        "      else:\n",
        "          # Write your code here\n",
        "          balance = balance - amount\n",
        "          print(\"Withdrawn:\", amount)\n",
        "          print(\"New Balance:\", balance)\n",
        "\n",
        "  elif  option == 2 : # Write your code here\n",
        "      print(\"Balance:\", balance)\n",
        "\n",
        "  elif  option == 3 :\n",
        "      deposit = float(input(\"Enter the amount to deposit: \"))\n",
        "      # Write your code here\n",
        "      balance = balance + deposit\n",
        "\n",
        "      print(\"Deposited:\", deposit)\n",
        "      print(\"New Balance:\", balance)\n",
        "  else:\n",
        "      print(\"Invalid option. Please choose 1, 2, or 3.\")\n",
        "else:\n",
        "  print('Incorrect Pin entered')"
      ],
      "metadata": {
        "id": "HDpFnHgCuQ46",
        "colab": {
          "base_uri": "https://localhost:8080/"
        },
        "outputId": "81a1a477-254e-4ae7-afca-03b05d840fc0"
      },
      "execution_count": 2,
      "outputs": [
        {
          "output_type": "stream",
          "name": "stdout",
          "text": [
            "Choose an option:) \n",
            "1. Withdraw\n",
            "2. Check Balance\n",
            "3. Deposit\n",
            "\n",
            "Enter your choice (1,2 or 3): 2\n",
            "Enter the pin:321\n",
            "Incorrect Pin entered\n"
          ]
        }
      ]
    },
    {
      "cell_type": "code",
      "source": [],
      "metadata": {
        "id": "_TPDH3ACckJY"
      },
      "execution_count": null,
      "outputs": []
    }
  ]
}