{
  "nbformat": 4,
  "nbformat_minor": 0,
  "metadata": {
    "colab": {
      "provenance": [],
      "authorship_tag": "ABX9TyMh/SfL280MG5DYI95yBXbQ",
      "include_colab_link": true
    },
    "kernelspec": {
      "name": "python3",
      "display_name": "Python 3"
    },
    "language_info": {
      "name": "python"
    }
  },
  "cells": [
    {
      "cell_type": "markdown",
      "metadata": {
        "id": "view-in-github",
        "colab_type": "text"
      },
      "source": [
        "<a href=\"https://colab.research.google.com/github/LokeCoder11/Projects/blob/main/Project_Calculator.ipynb\" target=\"_parent\"><img src=\"https://colab.research.google.com/assets/colab-badge.svg\" alt=\"Open In Colab\"/></a>"
      ]
    },
    {
      "cell_type": "code",
      "source": [
        "def calculator():\n",
        "    x = eval(input('Please enter X: '))\n",
        "    y = eval(input('Please enter Y: '))\n",
        "    return x, y\n",
        "\n",
        "    ops = int(input(\"1. Add | 2. Sub | 3. Mul | 4. Div | 5. Pow\"))\n",
        "\n",
        "    if ops == 1 :\n",
        "        return f'Addition of {x} and {y} is {x+y}'\n",
        "    elif ops == 2 :\n",
        "        return f'Subtraction of {x} and {y} is {x-y}'\n",
        "    elif ops == 3 :\n",
        "        return f'Multiplication of {x} and {y} is {x*y}'\n",
        "    elif ops == 4 :\n",
        "        return f'Division of {x} and {y} is {x-y}'\n",
        "    else:\n",
        "        return f'Power of {x} and {y} is {x**y}'"
      ],
      "metadata": {
        "id": "BM2QQzgn-4V2"
      },
      "execution_count": 25,
      "outputs": []
    },
    {
      "cell_type": "code",
      "execution_count": 24,
      "metadata": {
        "colab": {
          "base_uri": "https://localhost:8080/",
          "height": 104
        },
        "id": "yrB8iTuk-UMc",
        "outputId": "6a3e6505-8e8b-48f6-ccfd-03fbd31b527d"
      },
      "outputs": [
        {
          "output_type": "execute_result",
          "data": {
            "text/plain": [
              "<function __main__.calculator(self)>"
            ],
            "text/html": [
              "<div style=\"max-width:800px; border: 1px solid var(--colab-border-color);\"><style>\n",
              "      pre.function-repr-contents {\n",
              "        overflow-x: auto;\n",
              "        padding: 8px 12px;\n",
              "        max-height: 500px;\n",
              "      }\n",
              "\n",
              "      pre.function-repr-contents.function-repr-contents-collapsed {\n",
              "        cursor: pointer;\n",
              "        max-height: 100px;\n",
              "      }\n",
              "    </style>\n",
              "    <pre style=\"white-space: initial; background:\n",
              "         var(--colab-secondary-surface-color); padding: 8px 12px;\n",
              "         border-bottom: 1px solid var(--colab-border-color);\"><b>calculator</b><br/>def calculator()</pre><pre class=\"function-repr-contents function-repr-contents-collapsed\" style=\"\"><a class=\"filepath\" style=\"display:none\" href=\"#\">/content/&lt;ipython-input-23-11ccc39a717f&gt;</a>&lt;no docstring&gt;</pre></div>"
            ]
          },
          "metadata": {},
          "execution_count": 24
        }
      ],
      "source": [
        "cal=calculator\n",
        "cal\n",
        "\n",
        ""
      ]
    }
  ]
}