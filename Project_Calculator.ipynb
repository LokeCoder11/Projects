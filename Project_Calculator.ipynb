{
  "nbformat": 4,
  "nbformat_minor": 0,
  "metadata": {
    "colab": {
      "provenance": [],
      "authorship_tag": "ABX9TyPVNWAbcQ75Ietpt6U4hPZj",
      "include_colab_link": true
    },
    "kernelspec": {
      "name": "python3",
      "display_name": "Python 3"
    },
    "language_info": {
      "name": "python"
    }
  },
  "cells": [
    {
      "cell_type": "markdown",
      "metadata": {
        "id": "view-in-github",
        "colab_type": "text"
      },
      "source": [
        "<a href=\"https://colab.research.google.com/github/LokeCoder11/Projects/blob/main/Project_Calculator.ipynb\" target=\"_parent\"><img src=\"https://colab.research.google.com/assets/colab-badge.svg\" alt=\"Open In Colab\"/></a>"
      ]
    },
    {
      "cell_type": "code",
      "source": [
        "def get_numbers():\n",
        "    x = float(input('Please enter X: '))\n",
        "    y = float(input('Please enter Y: '))\n",
        "    return x, y\n",
        "\n",
        "def calculator():\n",
        "    x, y = get_numbers()\n",
        "\n",
        "    ops = int(input(\"1. Add | 2. Sub | 3. Mul | 4. Div | 5. Pow: \"))\n",
        "\n",
        "    if ops == 1:\n",
        "        print(f'Addition of {x} and {y} is {x + y}')\n",
        "    elif ops == 2:\n",
        "        print(f'Subtraction of {x} and {y} is {x - y}')\n",
        "    elif ops == 3:\n",
        "        print(f'Multiplication of {x} and {y} is {x * y}')\n",
        "    elif ops == 4:\n",
        "        if y == 0:\n",
        "            print(\"Cannot divide by zero.\")\n",
        "        else:\n",
        "            print(f'Division of {x} and {y} is {x / y}')\n",
        "    elif ops == 5:\n",
        "        print(f'Power of {x} to the {y} is {x ** y}')\n",
        "    else:\n",
        "        print(\"Invalid operation.\")\n",
        "\n",
        "calculator()\n"
      ],
      "metadata": {
        "id": "BM2QQzgn-4V2",
        "colab": {
          "base_uri": "https://localhost:8080/"
        },
        "outputId": "13070be6-83cd-44e7-c22e-449612fa547d"
      },
      "execution_count": 2,
      "outputs": [
        {
          "output_type": "stream",
          "name": "stdout",
          "text": [
            "Please enter X: 2\n",
            "Please enter Y: 5\n",
            "1. Add | 2. Sub | 3. Mul | 4. Div | 5. Pow: 1\n",
            "Addition of 2.0 and 5.0 is 7.0\n"
          ]
        }
      ]
    }
  ]
}