{
  "nbformat": 4,
  "nbformat_minor": 0,
  "metadata": {
    "colab": {
      "provenance": [],
      "authorship_tag": "ABX9TyMPdOnk5Wq9+i7DoczMtbaX",
      "include_colab_link": true
    },
    "kernelspec": {
      "name": "python3",
      "display_name": "Python 3"
    },
    "language_info": {
      "name": "python"
    }
  },
  "cells": [
    {
      "cell_type": "markdown",
      "metadata": {
        "id": "view-in-github",
        "colab_type": "text"
      },
      "source": [
        "<a href=\"https://colab.research.google.com/github/LokeCoder11/Projects/blob/main/Project_PyMySQL.ipynb\" target=\"_parent\"><img src=\"https://colab.research.google.com/assets/colab-badge.svg\" alt=\"Open In Colab\"/></a>"
      ]
    },
    {
      "cell_type": "markdown",
      "source": [
        "#What is connect 2 different langauage -1.Python & 2.SQL\n",
        "#Solution - Python library PYMYSQL to connect Python to mySQL\n",
        "\n",
        "#Before making a connection we have to understand that PYMYSQL LIBRARY is present.\n",
        "\n",
        "#1ST for configering NEED TO know:\n",
        "1. Host\n",
        "2. IP address of Database == which server you database is running\n",
        "3. Port\n",
        "4. Which database u want to use\n",
        "5. Password for connecting to database\n",
        "\n",
        "# 2nd - from terminal install pyMySQL with:\n",
        "pip install pymys\n",
        "\n",
        "# 3rd - in cell - import pymysql\n",
        "\n",
        "# 4th - Connect - follow below steps\n",
        "\n",
        "#a. CONNECT METHOD\n",
        "\n",
        "conn= pymysql.connect(\n",
        "      host = 'localhost'\n",
        "      user = 'root'\n",
        "      password = \"123xyz\"\n",
        "      db = 'moviedatabase'\n",
        ")\n",
        "\n",
        "#b. CURSOR METHOD\n",
        "cur = conn.cursor()\n",
        "#if you database property is correct, then it will start pointing to database, select with cursor.\n",
        "\n",
        "#c. Execute Method\n",
        "1.We execute query through python and should be able to see output\n",
        "\n",
        "str1 = \"select @@version;\" #this we get inside our sql\n",
        "cur.execute(str1)\n",
        "\n",
        "#d. fetchall Method\n",
        "1. for fetch output from cursor method, we use 'fetchall' method.\n",
        "output = cur.fetchall()\n",
        "\n",
        "#e. print(output)\n",
        "\n",
        "#list of things to do\n",
        "1. create table\n",
        "2. insert the data\n",
        "3. update table\n",
        "4. delete table data on 1 condition"
      ],
      "metadata": {
        "id": "pwGUjYXtgR7x"
      }
    },
    {
      "cell_type": "code",
      "execution_count": 1,
      "metadata": {
        "colab": {
          "base_uri": "https://localhost:8080/",
          "height": 106
        },
        "id": "WIMCZaxYf7Oq",
        "outputId": "366ef0c8-33a5-41d5-c753-9294869d9a00"
      },
      "outputs": [
        {
          "output_type": "error",
          "ename": "SyntaxError",
          "evalue": "invalid syntax (<ipython-input-1-70ccc77c3a91>, line 3)",
          "traceback": [
            "\u001b[0;36m  File \u001b[0;32m\"<ipython-input-1-70ccc77c3a91>\"\u001b[0;36m, line \u001b[0;32m3\u001b[0m\n\u001b[0;31m    CREATE TABLE moviedatabase.student (\u001b[0m\n\u001b[0m           ^\u001b[0m\n\u001b[0;31mSyntaxError\u001b[0m\u001b[0;31m:\u001b[0m invalid syntax\n"
          ]
        }
      ],
      "source": [
        "#create table\n",
        "\n",
        "conn=pymysql.connect(add connection details)\n",
        "\n",
        "cur = conn.cursor()\n",
        "\n",
        "create_table_queue = \"create table moviedatabase.student (\n",
        "id varchar(20),\n",
        "Student_name varchar(20),\n",
        "marks varchar(6),\n",
        "grade varchar(10) \"\n",
        "\n",
        "cur.execute(create_table_query)\n",
        "\n",
        "conn.commit()\n",
        "\n",
        "conn.close()"
      ]
    },
    {
      "cell_type": "code",
      "source": [
        "#dynamic_query and dynamic table creation as a user defined function\n",
        "\n",
        "#1st import pymysql and create connection with cursor command\n",
        "\n",
        "import pymysql\n",
        "\n",
        "def get_dynamic_query():\n",
        "\n",
        "    dynamic_query = \"create table\"\n",
        "    get_table_name = input(\"enter the table name\")\n",
        "\n",
        "    dynamic_query = dynamic_query + get_table_name \"(\"\n",
        "    print(dynamic_query)\n",
        "    get_table_count = int(input(\"enter total number of columns u want to create\"))\n",
        "    for i in range (get_table_count):\n",
        "        get_column_name = input(\"enter the column name \")\n",
        "        get_column_type = input(\"enter the column type \")\n",
        "        dynamic_query = dynamic_query + \" \" + get_column_name + \" \" + get_column_type + \",\"\n",
        "    print(dynamic_query)\n",
        "    dynamic_query = dynamic_query.rstrip(\",\")\n",
        "    dynamic_query = dynamic_query + \")\"\n",
        "    return(dynamic_query)\n",
        "\n",
        "conn= pymysql.connect(\n",
        "      host = 'localhost'\n",
        "      user = 'root'\n",
        "      password = \"123xyz\"\n",
        "      db = 'moviedatabase'\n",
        ")\n",
        "\n",
        "cur = conn.cursor()\n",
        "dynamic_query = get_dynamic_query()\n",
        "cur.execute(dynamic_query)\n",
        "\n",
        "    print(\"table created successfully to the selected database\")\n",
        "\n",
        "    conn.commit()\n",
        "\n",
        "    conn.close()"
      ],
      "metadata": {
        "id": "shaKW-_lkJtg"
      },
      "execution_count": null,
      "outputs": []
    },
    {
      "cell_type": "code",
      "source": [
        "#insert row information by hard commit static method\n",
        "\n",
        "import pymysql\n",
        "\n",
        "conn= pymysql.connect(\n",
        "      host = 'localhost'\n",
        "      user = 'root'\n",
        "      password = \"123xyz\"\n",
        "      db = 'moviedatabase'\n",
        ")\n",
        "\n",
        "cur = conn.cursor()\n",
        "\n",
        "sql = \"INSERT INTO 'film_text' ('film_id', 'title', 'description') VALUES(1007, 'Aag', 'action movie')\"\n",
        "\n",
        "cur.execute(sql)\n",
        "\n",
        "print(\"new data inserted successfully to the selected database\")\n",
        "\n",
        "conn.commit()\n",
        "\n",
        "conn.close()"
      ],
      "metadata": {
        "id": "CZAqXywqVXWK"
      },
      "execution_count": null,
      "outputs": []
    },
    {
      "cell_type": "code",
      "source": [
        "#insert row information by dynamic method\n",
        "\n",
        "\n",
        "import pymysql\n",
        "\n",
        "conn= pymysql.connect(\n",
        "      host = 'localhost'\n",
        "      user = 'root'\n",
        "      password = \"123xyz\"\n",
        "      db = 'moviedatabase'\n",
        ")\n",
        "\n",
        "cur = conn.cursor()\n",
        "\n",
        "get_film_id = int(input(\"enter the film id: \"))\n",
        "get_film_title = input(\"enter the film name: \")\n",
        "get_film_desc = input(\"enter the film description: \")\n",
        "\n",
        "get_query = \"INSERT INTO 'film_text' ('film_id','title','description') VALUES(%s,%s,%s)\" #%s is placeholder for input to be provided\n",
        "\n",
        "cur.execute(get_query,(get_film_id, get_title, get_desc))\n",
        "\n",
        "conn.commit()\n"
      ],
      "metadata": {
        "id": "qW7szLjzYkn3"
      },
      "execution_count": null,
      "outputs": []
    },
    {
      "cell_type": "code",
      "source": [
        "#To Delete\n",
        "\n",
        "sql = \"DELETE from film_text WHERE film_id='10';\"\n",
        "cor.execute(sql)\n",
        "conn.commit()\n",
        "conn.close()"
      ],
      "metadata": {
        "id": "krF2UUgUtyPa"
      },
      "execution_count": null,
      "outputs": []
    },
    {
      "cell_type": "code",
      "source": [
        "#To Update\n",
        "\n",
        "sql = \"UPDATE film_text SET title = 'NewMovie' where film_id='101';\"\n",
        "cor.execute(sql)\n",
        "conn.commit()\n",
        "conn.close()"
      ],
      "metadata": {
        "id": "0l0PyHobuedz"
      },
      "execution_count": null,
      "outputs": []
    }
  ]
}